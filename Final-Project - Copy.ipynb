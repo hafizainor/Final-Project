{
 "cells": [
  {
   "cell_type": "markdown",
   "metadata": {},
   "source": [
    "# Background\n",
    "\n",
    "Climate change has been a stuff of debate for many years. As a Clean Energy graduate from Temasek Poly, I always wonder why am I being taught alternative ways to generate energy, yet, most countries are still generating energy the \"destructive\" ways - which some assume to be the cause of climate change as current energy generation emits greenhouse gases.\n",
    "\n",
    "I always thought to myself,\n",
    "\n",
    "* *is climate change not true?*\n",
    "\n",
    "* *is climate change just a sign of the earth aging and has nothing to do with greenhouse gases?*\n",
    "\n",
    "I would like to take this opportunity to see how Data Science can be used to answer the above question.\n",
    "\n",
    "## Proposal\n",
    "\n",
    "For this project proposal, I will be doing a project regarding Climate change.\n",
    "\n",
    "My current Null hypothesis : **\"Greenhouse gases has nothing to do with climate change\"**\n",
    "\n",
    "The datasets I obtained are from this link:\n",
    "\n",
    "Temperature data:\n",
    "\n",
    "https://www.kaggle.com/berkeleyearth/climate-change-earth-surface-temperature-data/kernels\n",
    "\n",
    "International greenhouse emission data:\n",
    "\n",
    "https://www.kaggle.com/unitednations/international-greenhouse-gas-emissions\n",
    "\n",
    "## Risk / Limitation\n",
    "\n",
    "* The countries listed in each datasets varies. As such, some contries will be missing.\n",
    "* Can't find the dictionary for each dataset. The greenhouse emission data has long column name which is hard to understand.\n"
   ]
  },
  {
   "cell_type": "markdown",
   "metadata": {},
   "source": [
    "<h4> Import libraries </h4>"
   ]
  },
  {
   "cell_type": "code",
   "execution_count": 1,
   "metadata": {},
   "outputs": [],
   "source": [
    "%matplotlib inline\n",
    "import pandas as pd  # 0.23.0\n",
    "import numpy as np\n",
    "import matplotlib.pyplot as plt  # 2.2.2\n",
    "import seaborn as sns"
   ]
  },
  {
   "cell_type": "markdown",
   "metadata": {},
   "source": [
    "<h4>Let's create 2 dataframes:</h4>"
   ]
  },
  {
   "cell_type": "code",
   "execution_count": 2,
   "metadata": {},
   "outputs": [],
   "source": [
    "import pandas as pd\n",
    "from datetime import datetime\n",
    "\n",
    "temperature_data = 'Temperature/GlobalLandTemperaturesByCountry.csv'\n",
    "column_names = ['Datetime', 'Temperature', 'Uncertainty', 'Country']\n",
    "temperature_df = pd.read_csv(temperature_data, skiprows = 1, names = column_names)\n",
    "\n",
    "greenhouse_data = 'Greenhouse-Gasses/greenhouse_gas_inventory_data_data.csv'\n",
    "column_names = ['Country', 'Year', 'Value', 'Greenhouse Category']\n",
    "greenhouse_df = pd.read_csv(greenhouse_data, skiprows = 1, names = column_names)"
   ]
  },
  {
   "cell_type": "markdown",
   "metadata": {},
   "source": [
    "<h3> Checking the datatypes </h3>"
   ]
  },
  {
   "cell_type": "code",
   "execution_count": 48,
   "metadata": {},
   "outputs": [
    {
     "data": {
      "text/plain": [
       "Datetime       datetime64[ns]\n",
       "Temperature           float64\n",
       "Uncertainty           float64\n",
       "Country                object\n",
       "dtype: object"
      ]
     },
     "execution_count": 48,
     "metadata": {},
     "output_type": "execute_result"
    }
   ],
   "source": [
    "temperature_df.dtypes"
   ]
  },
  {
   "cell_type": "code",
   "execution_count": 4,
   "metadata": {
    "scrolled": false
   },
   "outputs": [
    {
     "data": {
      "text/plain": [
       "Country                 object\n",
       "Year                     int64\n",
       "Value                  float64\n",
       "Greenhouse Category     object\n",
       "dtype: object"
      ]
     },
     "execution_count": 4,
     "metadata": {},
     "output_type": "execute_result"
    }
   ],
   "source": [
    "greenhouse_df.dtypes"
   ]
  },
  {
   "cell_type": "markdown",
   "metadata": {},
   "source": [
    "<h3> Converting temperature_df to datetime <h/3>"
   ]
  },
  {
   "cell_type": "code",
   "execution_count": 5,
   "metadata": {},
   "outputs": [],
   "source": [
    "temperature_df['Datetime'] = pd.to_datetime(temperature_df.Datetime)"
   ]
  },
  {
   "cell_type": "code",
   "execution_count": 6,
   "metadata": {},
   "outputs": [
    {
     "data": {
      "text/html": [
       "<div>\n",
       "<style scoped>\n",
       "    .dataframe tbody tr th:only-of-type {\n",
       "        vertical-align: middle;\n",
       "    }\n",
       "\n",
       "    .dataframe tbody tr th {\n",
       "        vertical-align: top;\n",
       "    }\n",
       "\n",
       "    .dataframe thead th {\n",
       "        text-align: right;\n",
       "    }\n",
       "</style>\n",
       "<table border=\"1\" class=\"dataframe\">\n",
       "  <thead>\n",
       "    <tr style=\"text-align: right;\">\n",
       "      <th></th>\n",
       "      <th>Datetime</th>\n",
       "      <th>Temperature</th>\n",
       "      <th>Uncertainty</th>\n",
       "      <th>Country</th>\n",
       "    </tr>\n",
       "  </thead>\n",
       "  <tbody>\n",
       "    <tr>\n",
       "      <th>0</th>\n",
       "      <td>1743-11-01</td>\n",
       "      <td>4.384</td>\n",
       "      <td>2.294</td>\n",
       "      <td>Åland</td>\n",
       "    </tr>\n",
       "    <tr>\n",
       "      <th>1</th>\n",
       "      <td>1743-12-01</td>\n",
       "      <td>NaN</td>\n",
       "      <td>NaN</td>\n",
       "      <td>Åland</td>\n",
       "    </tr>\n",
       "    <tr>\n",
       "      <th>2</th>\n",
       "      <td>1744-01-01</td>\n",
       "      <td>NaN</td>\n",
       "      <td>NaN</td>\n",
       "      <td>Åland</td>\n",
       "    </tr>\n",
       "    <tr>\n",
       "      <th>3</th>\n",
       "      <td>1744-02-01</td>\n",
       "      <td>NaN</td>\n",
       "      <td>NaN</td>\n",
       "      <td>Åland</td>\n",
       "    </tr>\n",
       "    <tr>\n",
       "      <th>4</th>\n",
       "      <td>1744-03-01</td>\n",
       "      <td>NaN</td>\n",
       "      <td>NaN</td>\n",
       "      <td>Åland</td>\n",
       "    </tr>\n",
       "  </tbody>\n",
       "</table>\n",
       "</div>"
      ],
      "text/plain": [
       "    Datetime  Temperature  Uncertainty Country\n",
       "0 1743-11-01        4.384        2.294   Åland\n",
       "1 1743-12-01          NaN          NaN   Åland\n",
       "2 1744-01-01          NaN          NaN   Åland\n",
       "3 1744-02-01          NaN          NaN   Åland\n",
       "4 1744-03-01          NaN          NaN   Åland"
      ]
     },
     "execution_count": 6,
     "metadata": {},
     "output_type": "execute_result"
    }
   ],
   "source": [
    "temperature_df.head()"
   ]
  },
  {
   "cell_type": "code",
   "execution_count": 7,
   "metadata": {
    "scrolled": true
   },
   "outputs": [
    {
     "data": {
      "text/plain": [
       "Datetime       datetime64[ns]\n",
       "Temperature           float64\n",
       "Uncertainty           float64\n",
       "Country                object\n",
       "dtype: object"
      ]
     },
     "execution_count": 7,
     "metadata": {},
     "output_type": "execute_result"
    }
   ],
   "source": [
    "temperature_df.dtypes"
   ]
  },
  {
   "cell_type": "markdown",
   "metadata": {},
   "source": [
    "<h3> Next, explore 'Country' column from both dataframes.</h3>"
   ]
  },
  {
   "cell_type": "code",
   "execution_count": 8,
   "metadata": {},
   "outputs": [
    {
     "data": {
      "text/plain": [
       "243"
      ]
     },
     "execution_count": 8,
     "metadata": {},
     "output_type": "execute_result"
    }
   ],
   "source": [
    "temperature_df.Country.nunique()"
   ]
  },
  {
   "cell_type": "code",
   "execution_count": 9,
   "metadata": {
    "scrolled": true
   },
   "outputs": [
    {
     "data": {
      "text/plain": [
       "43"
      ]
     },
     "execution_count": 9,
     "metadata": {},
     "output_type": "execute_result"
    }
   ],
   "source": [
    "greenhouse_df.Country.nunique()"
   ]
  },
  {
   "cell_type": "markdown",
   "metadata": {},
   "source": [
    "The total number of contries vary from both dataframe. \n",
    "\n",
    "As such, lets make greenhouse_df as the <strong>reference</strong> for 'Country'."
   ]
  },
  {
   "cell_type": "markdown",
   "metadata": {},
   "source": [
    "From intital analysis (not shown in this notebook), the 'Country', United States are being spelled differently, lets rename to a common spelling"
   ]
  },
  {
   "cell_type": "code",
   "execution_count": 10,
   "metadata": {},
   "outputs": [],
   "source": [
    "greenhouse_df.replace(to_replace='United States of America', value='United States', inplace = True);"
   ]
  },
  {
   "cell_type": "code",
   "execution_count": 11,
   "metadata": {},
   "outputs": [],
   "source": [
    "country_green = pd.DataFrame(greenhouse_df.Country.unique(), columns = ['Country'])\n",
    "country_temp = pd.DataFrame(temperature_df.Country.unique(), columns = ['Country'])"
   ]
  },
  {
   "cell_type": "markdown",
   "metadata": {},
   "source": [
    "<h3> Creating a variable that holds the common Country </h3>"
   ]
  },
  {
   "cell_type": "code",
   "execution_count": 12,
   "metadata": {},
   "outputs": [],
   "source": [
    "country_intersect = pd.merge(country_green,country_temp)"
   ]
  },
  {
   "cell_type": "code",
   "execution_count": 13,
   "metadata": {},
   "outputs": [
    {
     "name": "stdout",
     "output_type": "stream",
     "text": [
      "Total Country    41\n",
      "dtype: int64\n"
     ]
    },
    {
     "data": {
      "text/html": [
       "<div>\n",
       "<style scoped>\n",
       "    .dataframe tbody tr th:only-of-type {\n",
       "        vertical-align: middle;\n",
       "    }\n",
       "\n",
       "    .dataframe tbody tr th {\n",
       "        vertical-align: top;\n",
       "    }\n",
       "\n",
       "    .dataframe thead th {\n",
       "        text-align: right;\n",
       "    }\n",
       "</style>\n",
       "<table border=\"1\" class=\"dataframe\">\n",
       "  <thead>\n",
       "    <tr style=\"text-align: right;\">\n",
       "      <th></th>\n",
       "      <th>Country</th>\n",
       "    </tr>\n",
       "  </thead>\n",
       "  <tbody>\n",
       "    <tr>\n",
       "      <th>0</th>\n",
       "      <td>Australia</td>\n",
       "    </tr>\n",
       "    <tr>\n",
       "      <th>1</th>\n",
       "      <td>Austria</td>\n",
       "    </tr>\n",
       "    <tr>\n",
       "      <th>2</th>\n",
       "      <td>Belarus</td>\n",
       "    </tr>\n",
       "    <tr>\n",
       "      <th>3</th>\n",
       "      <td>Belgium</td>\n",
       "    </tr>\n",
       "    <tr>\n",
       "      <th>4</th>\n",
       "      <td>Bulgaria</td>\n",
       "    </tr>\n",
       "    <tr>\n",
       "      <th>5</th>\n",
       "      <td>Canada</td>\n",
       "    </tr>\n",
       "    <tr>\n",
       "      <th>6</th>\n",
       "      <td>Croatia</td>\n",
       "    </tr>\n",
       "    <tr>\n",
       "      <th>7</th>\n",
       "      <td>Cyprus</td>\n",
       "    </tr>\n",
       "    <tr>\n",
       "      <th>8</th>\n",
       "      <td>Czech Republic</td>\n",
       "    </tr>\n",
       "    <tr>\n",
       "      <th>9</th>\n",
       "      <td>Denmark</td>\n",
       "    </tr>\n",
       "    <tr>\n",
       "      <th>10</th>\n",
       "      <td>Estonia</td>\n",
       "    </tr>\n",
       "    <tr>\n",
       "      <th>11</th>\n",
       "      <td>Finland</td>\n",
       "    </tr>\n",
       "    <tr>\n",
       "      <th>12</th>\n",
       "      <td>France</td>\n",
       "    </tr>\n",
       "    <tr>\n",
       "      <th>13</th>\n",
       "      <td>Germany</td>\n",
       "    </tr>\n",
       "    <tr>\n",
       "      <th>14</th>\n",
       "      <td>Greece</td>\n",
       "    </tr>\n",
       "    <tr>\n",
       "      <th>15</th>\n",
       "      <td>Hungary</td>\n",
       "    </tr>\n",
       "    <tr>\n",
       "      <th>16</th>\n",
       "      <td>Iceland</td>\n",
       "    </tr>\n",
       "    <tr>\n",
       "      <th>17</th>\n",
       "      <td>Ireland</td>\n",
       "    </tr>\n",
       "    <tr>\n",
       "      <th>18</th>\n",
       "      <td>Italy</td>\n",
       "    </tr>\n",
       "    <tr>\n",
       "      <th>19</th>\n",
       "      <td>Japan</td>\n",
       "    </tr>\n",
       "    <tr>\n",
       "      <th>20</th>\n",
       "      <td>Latvia</td>\n",
       "    </tr>\n",
       "    <tr>\n",
       "      <th>21</th>\n",
       "      <td>Liechtenstein</td>\n",
       "    </tr>\n",
       "    <tr>\n",
       "      <th>22</th>\n",
       "      <td>Lithuania</td>\n",
       "    </tr>\n",
       "    <tr>\n",
       "      <th>23</th>\n",
       "      <td>Luxembourg</td>\n",
       "    </tr>\n",
       "    <tr>\n",
       "      <th>24</th>\n",
       "      <td>Malta</td>\n",
       "    </tr>\n",
       "    <tr>\n",
       "      <th>25</th>\n",
       "      <td>Monaco</td>\n",
       "    </tr>\n",
       "    <tr>\n",
       "      <th>26</th>\n",
       "      <td>Netherlands</td>\n",
       "    </tr>\n",
       "    <tr>\n",
       "      <th>27</th>\n",
       "      <td>New Zealand</td>\n",
       "    </tr>\n",
       "    <tr>\n",
       "      <th>28</th>\n",
       "      <td>Norway</td>\n",
       "    </tr>\n",
       "    <tr>\n",
       "      <th>29</th>\n",
       "      <td>Poland</td>\n",
       "    </tr>\n",
       "    <tr>\n",
       "      <th>30</th>\n",
       "      <td>Portugal</td>\n",
       "    </tr>\n",
       "    <tr>\n",
       "      <th>31</th>\n",
       "      <td>Romania</td>\n",
       "    </tr>\n",
       "    <tr>\n",
       "      <th>32</th>\n",
       "      <td>Slovakia</td>\n",
       "    </tr>\n",
       "    <tr>\n",
       "      <th>33</th>\n",
       "      <td>Slovenia</td>\n",
       "    </tr>\n",
       "    <tr>\n",
       "      <th>34</th>\n",
       "      <td>Spain</td>\n",
       "    </tr>\n",
       "    <tr>\n",
       "      <th>35</th>\n",
       "      <td>Sweden</td>\n",
       "    </tr>\n",
       "    <tr>\n",
       "      <th>36</th>\n",
       "      <td>Switzerland</td>\n",
       "    </tr>\n",
       "    <tr>\n",
       "      <th>37</th>\n",
       "      <td>Turkey</td>\n",
       "    </tr>\n",
       "    <tr>\n",
       "      <th>38</th>\n",
       "      <td>Ukraine</td>\n",
       "    </tr>\n",
       "    <tr>\n",
       "      <th>39</th>\n",
       "      <td>United Kingdom</td>\n",
       "    </tr>\n",
       "    <tr>\n",
       "      <th>40</th>\n",
       "      <td>United States</td>\n",
       "    </tr>\n",
       "  </tbody>\n",
       "</table>\n",
       "</div>"
      ],
      "text/plain": [
       "           Country\n",
       "0        Australia\n",
       "1          Austria\n",
       "2          Belarus\n",
       "3          Belgium\n",
       "4         Bulgaria\n",
       "5           Canada\n",
       "6          Croatia\n",
       "7           Cyprus\n",
       "8   Czech Republic\n",
       "9          Denmark\n",
       "10         Estonia\n",
       "11         Finland\n",
       "12          France\n",
       "13         Germany\n",
       "14          Greece\n",
       "15         Hungary\n",
       "16         Iceland\n",
       "17         Ireland\n",
       "18           Italy\n",
       "19           Japan\n",
       "20          Latvia\n",
       "21   Liechtenstein\n",
       "22       Lithuania\n",
       "23      Luxembourg\n",
       "24           Malta\n",
       "25          Monaco\n",
       "26     Netherlands\n",
       "27     New Zealand\n",
       "28          Norway\n",
       "29          Poland\n",
       "30        Portugal\n",
       "31         Romania\n",
       "32        Slovakia\n",
       "33        Slovenia\n",
       "34           Spain\n",
       "35          Sweden\n",
       "36     Switzerland\n",
       "37          Turkey\n",
       "38         Ukraine\n",
       "39  United Kingdom\n",
       "40   United States"
      ]
     },
     "execution_count": 13,
     "metadata": {},
     "output_type": "execute_result"
    }
   ],
   "source": [
    "print(\"Total {}\".format(country_intersect.nunique()))\n",
    "country_intersect"
   ]
  },
  {
   "cell_type": "markdown",
   "metadata": {},
   "source": [
    "<h3> Let's create a new dataframe only containing the intersected Countries </h3>"
   ]
  },
  {
   "cell_type": "code",
   "execution_count": 14,
   "metadata": {},
   "outputs": [],
   "source": [
    "ref_country = greenhouse_df.Country.unique()\n",
    "intersect = temperature_df.Country.isin(ref_country)\n",
    "temp_df = temperature_df[intersect]"
   ]
  },
  {
   "cell_type": "code",
   "execution_count": 15,
   "metadata": {},
   "outputs": [
    {
     "data": {
      "text/plain": [
       "41"
      ]
     },
     "execution_count": 15,
     "metadata": {},
     "output_type": "execute_result"
    }
   ],
   "source": [
    "temp_df.Country.nunique()"
   ]
  },
  {
   "cell_type": "markdown",
   "metadata": {},
   "source": [
    "<h4>As mentioned above, greenhouse_df will be used as reference, now it is time to get the common years from both dataframes</h4>"
   ]
  },
  {
   "cell_type": "code",
   "execution_count": 16,
   "metadata": {},
   "outputs": [],
   "source": [
    "min_year = greenhouse_df['Year'].min()\n",
    "max_year = greenhouse_df['Year'].max()\n",
    "mask = (temp_df['Datetime'].dt.year >= min_year) & (temp_df['Datetime'].dt.year <= max_year)\n",
    "new_df = temp_df[mask]"
   ]
  },
  {
   "cell_type": "code",
   "execution_count": 17,
   "metadata": {},
   "outputs": [
    {
     "data": {
      "text/plain": [
       "(11685, 4)"
      ]
     },
     "execution_count": 17,
     "metadata": {},
     "output_type": "execute_result"
    }
   ],
   "source": [
    "new_df.shape"
   ]
  },
  {
   "cell_type": "markdown",
   "metadata": {},
   "source": [
    "<h4> Let's check for missing values</h4>"
   ]
  },
  {
   "cell_type": "code",
   "execution_count": 18,
   "metadata": {},
   "outputs": [
    {
     "data": {
      "text/plain": [
       "Datetime        0\n",
       "Temperature    39\n",
       "Uncertainty    39\n",
       "Country         0\n",
       "dtype: int64"
      ]
     },
     "execution_count": 18,
     "metadata": {},
     "output_type": "execute_result"
    }
   ],
   "source": [
    "new_df.isna().sum()"
   ]
  },
  {
   "cell_type": "code",
   "execution_count": 19,
   "metadata": {},
   "outputs": [
    {
     "data": {
      "text/plain": [
       "Country                0\n",
       "Year                   0\n",
       "Value                  0\n",
       "Greenhouse Category    0\n",
       "dtype: int64"
      ]
     },
     "execution_count": 19,
     "metadata": {},
     "output_type": "execute_result"
    }
   ],
   "source": [
    "greenhouse_df.isna().sum()"
   ]
  },
  {
   "cell_type": "code",
   "execution_count": 20,
   "metadata": {
    "scrolled": true
   },
   "outputs": [],
   "source": [
    "miss_val = new_df[pd.isnull(new_df).any(1)]"
   ]
  },
  {
   "cell_type": "code",
   "execution_count": 21,
   "metadata": {},
   "outputs": [
    {
     "data": {
      "text/plain": [
       "(39, 4)"
      ]
     },
     "execution_count": 21,
     "metadata": {},
     "output_type": "execute_result"
    }
   ],
   "source": [
    "miss_val.shape"
   ]
  },
  {
   "cell_type": "code",
   "execution_count": 22,
   "metadata": {},
   "outputs": [
    {
     "data": {
      "text/plain": [
       "39"
      ]
     },
     "execution_count": 22,
     "metadata": {},
     "output_type": "execute_result"
    }
   ],
   "source": [
    "miss_val['Country'].nunique()"
   ]
  },
  {
   "cell_type": "code",
   "execution_count": 23,
   "metadata": {},
   "outputs": [
    {
     "name": "stdout",
     "output_type": "stream",
     "text": [
      "Year that has missing values: [2013] for the month of: [9]\n",
      "\n"
     ]
    }
   ],
   "source": [
    "print('Year that has missing values: {} for the month of: {}'.format(miss_val['Datetime'].dt.year.unique(),\n",
    "                                                                    miss_val['Datetime'].dt.month.unique()))\n",
    "print('')"
   ]
  },
  {
   "cell_type": "code",
   "execution_count": 24,
   "metadata": {},
   "outputs": [
    {
     "data": {
      "text/plain": [
       "array([1, 2, 3, 4, 5, 6, 7, 8, 9], dtype=int64)"
      ]
     },
     "execution_count": 24,
     "metadata": {},
     "output_type": "execute_result"
    }
   ],
   "source": [
    "x = new_df[new_df['Datetime'].dt.year == 2013]\n",
    "x['Datetime'].dt.month.unique()"
   ]
  },
  {
   "cell_type": "markdown",
   "metadata": {},
   "source": [
    "Observation:\n",
    "\n",
    "<strong>39/41 countries have missing data for the year 2013. These countries are missing data for the month September.</strong>"
   ]
  },
  {
   "cell_type": "markdown",
   "metadata": {},
   "source": [
    "<h4> Let's re-alter new_df by removing the year 2013</h4>"
   ]
  },
  {
   "cell_type": "code",
   "execution_count": 25,
   "metadata": {},
   "outputs": [
    {
     "name": "stdout",
     "output_type": "stream",
     "text": [
      "Year range: 1990 - 2013\n"
     ]
    }
   ],
   "source": [
    "print('Year range: {} - {}'.format(new_df['Datetime'].dt.year.min(),\n",
    "                                   new_df['Datetime'].dt.year.max()))"
   ]
  },
  {
   "cell_type": "code",
   "execution_count": 26,
   "metadata": {},
   "outputs": [],
   "source": [
    "mask = new_df['Datetime'].dt.year < 2013\n",
    "new_df = new_df[mask]"
   ]
  },
  {
   "cell_type": "code",
   "execution_count": 27,
   "metadata": {
    "scrolled": true
   },
   "outputs": [
    {
     "data": {
      "text/plain": [
       "Datetime       0\n",
       "Temperature    0\n",
       "Uncertainty    0\n",
       "Country        0\n",
       "dtype: int64"
      ]
     },
     "execution_count": 27,
     "metadata": {},
     "output_type": "execute_result"
    }
   ],
   "source": [
    "new_df.isnull().sum()"
   ]
  },
  {
   "cell_type": "markdown",
   "metadata": {},
   "source": [
    "<h4> Let's get the <em>mean</em> of temperature per Year</h4>"
   ]
  },
  {
   "cell_type": "code",
   "execution_count": 28,
   "metadata": {},
   "outputs": [],
   "source": [
    "annual_mean_temperature = pd.DataFrame(new_df.groupby(new_df['Datetime'].dt.year).mean()['Temperature'])"
   ]
  },
  {
   "cell_type": "code",
   "execution_count": 29,
   "metadata": {},
   "outputs": [
    {
     "data": {
      "text/plain": [
       "Text(0, 0.5, 'Mean Temperature')"
      ]
     },
     "execution_count": 29,
     "metadata": {},
     "output_type": "execute_result"
    },
    {
     "data": {
      "text/plain": [
       "<Figure size 432x288 with 0 Axes>"
      ]
     },
     "metadata": {},
     "output_type": "display_data"
    },
    {
     "data": {
      "image/png": "[encoded data removed]",
      "text/plain": [
       "<Figure size 720x360 with 1 Axes>"
      ]
     },
     "metadata": {},
     "output_type": "display_data"
    }
   ],
   "source": [
    "plt.figure()\n",
    "plt.style.use('fivethirtyeight')\n",
    "\n",
    "annual_mean_temperature.plot(figsize = (10,5), grid = True, legend = True)\n",
    "plt.xlabel('Year')\n",
    "plt.ylabel('Mean Temperature')"
   ]
  },
  {
   "cell_type": "markdown",
   "metadata": {},
   "source": [
    "<h4> Let's explore greenhouse_df dataframe </h4>"
   ]
  },
  {
   "cell_type": "code",
   "execution_count": 30,
   "metadata": {
    "scrolled": true
   },
   "outputs": [
    {
     "data": {
      "text/plain": [
       "array(['carbon_dioxide_co2_emissions_without_land_use_land_use_change_and_forestry_lulucf_in_kilotonne_co2_equivalent',\n",
       "       'greenhouse_gas_ghgs_emissions_including_indirect_co2_without_lulucf_in_kilotonne_co2_equivalent',\n",
       "       'greenhouse_gas_ghgs_emissions_without_land_use_land_use_change_and_forestry_lulucf_in_kilotonne_co2_equivalent',\n",
       "       'hydrofluorocarbons_hfcs_emissions_in_kilotonne_co2_equivalent',\n",
       "       'methane_ch4_emissions_without_land_use_land_use_change_and_forestry_lulucf_in_kilotonne_co2_equivalent',\n",
       "       'nitrogen_trifluoride_nf3_emissions_in_kilotonne_co2_equivalent',\n",
       "       'nitrous_oxide_n2o_emissions_without_land_use_land_use_change_and_forestry_lulucf_in_kilotonne_co2_equivalent',\n",
       "       'perfluorocarbons_pfcs_emissions_in_kilotonne_co2_equivalent',\n",
       "       'sulphur_hexafluoride_sf6_emissions_in_kilotonne_co2_equivalent',\n",
       "       'unspecified_mix_of_hydrofluorocarbons_hfcs_and_perfluorocarbons_pfcs_emissions_in_kilotonne_co2_equivalent'],\n",
       "      dtype=object)"
      ]
     },
     "execution_count": 30,
     "metadata": {},
     "output_type": "execute_result"
    }
   ],
   "source": [
    "greenhouse_df['Greenhouse Category'].unique()"
   ]
  },
  {
   "cell_type": "markdown",
   "metadata": {},
   "source": [
    "<h4> Renaming the emission categories to a shorter string </h4>"
   ]
  },
  {
   "cell_type": "code",
   "execution_count": 31,
   "metadata": {},
   "outputs": [],
   "source": [
    "to_replace = greenhouse_df['Greenhouse Category'].unique()\n",
    "replace_with = ['co2','ghgs1','ghgs2','hfcs','ch4','nf3','n2o','pfcs','sf6','hfcs+pfcs']\n",
    "greenhouse_df.replace(to_replace, replace_with, inplace = True)"
   ]
  },
  {
   "cell_type": "code",
   "execution_count": 32,
   "metadata": {},
   "outputs": [
    {
     "data": {
      "text/plain": [
       "array(['co2', 'ghgs1', 'ghgs2', 'hfcs', 'ch4', 'nf3', 'n2o', 'pfcs',\n",
       "       'sf6', 'hfcs+pfcs'], dtype=object)"
      ]
     },
     "execution_count": 32,
     "metadata": {},
     "output_type": "execute_result"
    }
   ],
   "source": [
    "greenhouse_df['Greenhouse Category'].unique()"
   ]
  },
  {
   "cell_type": "markdown",
   "metadata": {},
   "source": [
    "<h4> Lets's get the mean emission per category per year </h4>"
   ]
  },
  {
   "cell_type": "code",
   "execution_count": 33,
   "metadata": {},
   "outputs": [],
   "source": [
    "annual_mean_greenhouse = greenhouse_df.groupby(['Year','Greenhouse Category']).mean()"
   ]
  },
  {
   "cell_type": "code",
   "execution_count": 34,
   "metadata": {},
   "outputs": [],
   "source": [
    "annual_mean_greenhouse.reset_index('Greenhouse Category',inplace = True)"
   ]
  },
  {
   "cell_type": "code",
   "execution_count": 35,
   "metadata": {},
   "outputs": [],
   "source": [
    "annual_mean_greenhouse.reset_index('Year', inplace = True)"
   ]
  },
  {
   "cell_type": "code",
   "execution_count": 36,
   "metadata": {},
   "outputs": [
    {
     "data": {
      "text/html": [
       "<div>\n",
       "<style scoped>\n",
       "    .dataframe tbody tr th:only-of-type {\n",
       "        vertical-align: middle;\n",
       "    }\n",
       "\n",
       "    .dataframe tbody tr th {\n",
       "        vertical-align: top;\n",
       "    }\n",
       "\n",
       "    .dataframe thead th {\n",
       "        text-align: right;\n",
       "    }\n",
       "</style>\n",
       "<table border=\"1\" class=\"dataframe\">\n",
       "  <thead>\n",
       "    <tr style=\"text-align: right;\">\n",
       "      <th></th>\n",
       "      <th>Temperature</th>\n",
       "    </tr>\n",
       "    <tr>\n",
       "      <th>Datetime</th>\n",
       "      <th></th>\n",
       "    </tr>\n",
       "  </thead>\n",
       "  <tbody>\n",
       "    <tr>\n",
       "      <th>1990</th>\n",
       "      <td>9.402640</td>\n",
       "    </tr>\n",
       "    <tr>\n",
       "      <th>1991</th>\n",
       "      <td>8.636589</td>\n",
       "    </tr>\n",
       "    <tr>\n",
       "      <th>1992</th>\n",
       "      <td>8.942246</td>\n",
       "    </tr>\n",
       "    <tr>\n",
       "      <th>1993</th>\n",
       "      <td>8.490705</td>\n",
       "    </tr>\n",
       "    <tr>\n",
       "      <th>1994</th>\n",
       "      <td>9.317268</td>\n",
       "    </tr>\n",
       "  </tbody>\n",
       "</table>\n",
       "</div>"
      ],
      "text/plain": [
       "          Temperature\n",
       "Datetime             \n",
       "1990         9.402640\n",
       "1991         8.636589\n",
       "1992         8.942246\n",
       "1993         8.490705\n",
       "1994         9.317268"
      ]
     },
     "execution_count": 36,
     "metadata": {},
     "output_type": "execute_result"
    }
   ],
   "source": [
    "annual_mean_temperature.head()"
   ]
  },
  {
   "cell_type": "markdown",
   "metadata": {},
   "source": [
    "<h4> Lets merge both dataframes together based on Year </h4>"
   ]
  },
  {
   "cell_type": "code",
   "execution_count": 37,
   "metadata": {},
   "outputs": [],
   "source": [
    "for year in annual_mean_greenhouse['Year'].unique():\n",
    "    for cat in annual_mean_greenhouse['Greenhouse Category'].unique():\n",
    "\n",
    "        mask = (annual_mean_greenhouse['Year'] == year) & (annual_mean_greenhouse['Greenhouse Category'] == cat)\n",
    "        annual_mean_temperature.loc[year, cat] = annual_mean_greenhouse[mask]['Value'].values[0]"
   ]
  },
  {
   "cell_type": "code",
   "execution_count": 53,
   "metadata": {},
   "outputs": [
    {
     "data": {
      "text/html": [
       "<div>\n",
       "<style scoped>\n",
       "    .dataframe tbody tr th:only-of-type {\n",
       "        vertical-align: middle;\n",
       "    }\n",
       "\n",
       "    .dataframe tbody tr th {\n",
       "        vertical-align: top;\n",
       "    }\n",
       "\n",
       "    .dataframe thead th {\n",
       "        text-align: right;\n",
       "    }\n",
       "</style>\n",
       "<table border=\"1\" class=\"dataframe\">\n",
       "  <thead>\n",
       "    <tr style=\"text-align: right;\">\n",
       "      <th></th>\n",
       "      <th>Temperature</th>\n",
       "      <th>ch4</th>\n",
       "      <th>co2</th>\n",
       "      <th>ghgs1</th>\n",
       "      <th>ghgs2</th>\n",
       "      <th>hfcs</th>\n",
       "      <th>hfcs+pfcs</th>\n",
       "      <th>n2o</th>\n",
       "      <th>nf3</th>\n",
       "      <th>pfcs</th>\n",
       "      <th>sf6</th>\n",
       "    </tr>\n",
       "    <tr>\n",
       "      <th>Datetime</th>\n",
       "      <th></th>\n",
       "      <th></th>\n",
       "      <th></th>\n",
       "      <th></th>\n",
       "      <th></th>\n",
       "      <th></th>\n",
       "      <th></th>\n",
       "      <th></th>\n",
       "      <th></th>\n",
       "      <th></th>\n",
       "      <th></th>\n",
       "    </tr>\n",
       "  </thead>\n",
       "  <tbody>\n",
       "    <tr>\n",
       "      <th>1990</th>\n",
       "      <td>9.402640</td>\n",
       "      <td>87094.095299</td>\n",
       "      <td>455379.936166</td>\n",
       "      <td>633243.305620</td>\n",
       "      <td>587003.637294</td>\n",
       "      <td>6616.886179</td>\n",
       "      <td>3901.551150</td>\n",
       "      <td>36194.407289</td>\n",
       "      <td>18.383797</td>\n",
       "      <td>3838.874861</td>\n",
       "      <td>2074.533801</td>\n",
       "    </tr>\n",
       "    <tr>\n",
       "      <th>1991</th>\n",
       "      <td>8.636589</td>\n",
       "      <td>84511.860775</td>\n",
       "      <td>446193.986253</td>\n",
       "      <td>618145.225307</td>\n",
       "      <td>573555.753951</td>\n",
       "      <td>6159.500972</td>\n",
       "      <td>3680.115869</td>\n",
       "      <td>34748.195912</td>\n",
       "      <td>18.871227</td>\n",
       "      <td>3523.418645</td>\n",
       "      <td>2055.211806</td>\n",
       "    </tr>\n",
       "    <tr>\n",
       "      <th>1992</th>\n",
       "      <td>8.942246</td>\n",
       "      <td>81528.146297</td>\n",
       "      <td>431901.700232</td>\n",
       "      <td>597397.641955</td>\n",
       "      <td>554945.603744</td>\n",
       "      <td>5290.472902</td>\n",
       "      <td>3672.904628</td>\n",
       "      <td>33609.735740</td>\n",
       "      <td>19.408413</td>\n",
       "      <td>3198.749121</td>\n",
       "      <td>2059.102498</td>\n",
       "    </tr>\n",
       "    <tr>\n",
       "      <th>1993</th>\n",
       "      <td>8.490705</td>\n",
       "      <td>79167.104710</td>\n",
       "      <td>426304.676894</td>\n",
       "      <td>588482.640738</td>\n",
       "      <td>546260.074250</td>\n",
       "      <td>4992.882331</td>\n",
       "      <td>3672.738024</td>\n",
       "      <td>32976.558788</td>\n",
       "      <td>23.278081</td>\n",
       "      <td>3174.231901</td>\n",
       "      <td>2075.474610</td>\n",
       "    </tr>\n",
       "    <tr>\n",
       "      <th>1994</th>\n",
       "      <td>9.317268</td>\n",
       "      <td>77076.932886</td>\n",
       "      <td>421997.498173</td>\n",
       "      <td>580717.203385</td>\n",
       "      <td>539429.916433</td>\n",
       "      <td>5127.461987</td>\n",
       "      <td>3855.997597</td>\n",
       "      <td>32253.689517</td>\n",
       "      <td>25.988809</td>\n",
       "      <td>2977.335790</td>\n",
       "      <td>2029.666582</td>\n",
       "    </tr>\n",
       "  </tbody>\n",
       "</table>\n",
       "</div>"
      ],
      "text/plain": [
       "          Temperature           ch4            co2          ghgs1  \\\n",
       "Datetime                                                            \n",
       "1990         9.402640  87094.095299  455379.936166  633243.305620   \n",
       "1991         8.636589  84511.860775  446193.986253  618145.225307   \n",
       "1992         8.942246  81528.146297  431901.700232  597397.641955   \n",
       "1993         8.490705  79167.104710  426304.676894  588482.640738   \n",
       "1994         9.317268  77076.932886  421997.498173  580717.203385   \n",
       "\n",
       "                  ghgs2         hfcs    hfcs+pfcs           n2o        nf3  \\\n",
       "Datetime                                                                     \n",
       "1990      587003.637294  6616.886179  3901.551150  36194.407289  18.383797   \n",
       "1991      573555.753951  6159.500972  3680.115869  34748.195912  18.871227   \n",
       "1992      554945.603744  5290.472902  3672.904628  33609.735740  19.408413   \n",
       "1993      546260.074250  4992.882331  3672.738024  32976.558788  23.278081   \n",
       "1994      539429.916433  5127.461987  3855.997597  32253.689517  25.988809   \n",
       "\n",
       "                 pfcs          sf6  \n",
       "Datetime                            \n",
       "1990      3838.874861  2074.533801  \n",
       "1991      3523.418645  2055.211806  \n",
       "1992      3198.749121  2059.102498  \n",
       "1993      3174.231901  2075.474610  \n",
       "1994      2977.335790  2029.666582  "
      ]
     },
     "execution_count": 53,
     "metadata": {},
     "output_type": "execute_result"
    }
   ],
   "source": [
    "annual_mean_temperature.head()"
   ]
  },
  {
   "cell_type": "markdown",
   "metadata": {},
   "source": [
    "<h4> Let's see the relationship </h4>"
   ]
  },
  {
   "cell_type": "code",
   "execution_count": 45,
   "metadata": {},
   "outputs": [
    {
     "data": {
      "text/plain": [
       "Text(0, 0.5, 'Carbon dioxide (PPM)')"
      ]
     },
     "execution_count": 45,
     "metadata": {},
     "output_type": "execute_result"
    },
    {
     "data": {
      "image/png": "[encoded data removed]",
      "text/plain": [
       "<Figure size 432x288 with 1 Axes>"
      ]
     },
     "metadata": {},
     "output_type": "display_data"
    }
   ],
   "source": [
    "fig = plt.figure()\n",
    "ax = fig.add_subplot(1,1,1)\n",
    "\n",
    "ax.scatter(annual_mean_temperature['Temperature'],annual_mean_temperature['co2'])\n",
    "plt.xlabel('Mean Temperature')\n",
    "plt.ylabel('Carbon dioxide (PPM)')"
   ]
  },
  {
   "cell_type": "code",
   "execution_count": 39,
   "metadata": {},
   "outputs": [
    {
     "data": {
      "text/html": [
       "<div>\n",
       "<style scoped>\n",
       "    .dataframe tbody tr th:only-of-type {\n",
       "        vertical-align: middle;\n",
       "    }\n",
       "\n",
       "    .dataframe tbody tr th {\n",
       "        vertical-align: top;\n",
       "    }\n",
       "\n",
       "    .dataframe thead th {\n",
       "        text-align: right;\n",
       "    }\n",
       "</style>\n",
       "<table border=\"1\" class=\"dataframe\">\n",
       "  <thead>\n",
       "    <tr style=\"text-align: right;\">\n",
       "      <th></th>\n",
       "      <th>Temperature</th>\n",
       "      <th>ch4</th>\n",
       "      <th>co2</th>\n",
       "      <th>ghgs1</th>\n",
       "      <th>ghgs2</th>\n",
       "      <th>hfcs</th>\n",
       "      <th>hfcs+pfcs</th>\n",
       "      <th>n2o</th>\n",
       "      <th>nf3</th>\n",
       "      <th>pfcs</th>\n",
       "      <th>sf6</th>\n",
       "    </tr>\n",
       "  </thead>\n",
       "  <tbody>\n",
       "    <tr>\n",
       "      <th>Temperature</th>\n",
       "      <td>1.000000</td>\n",
       "      <td>-0.421805</td>\n",
       "      <td>0.103099</td>\n",
       "      <td>-0.116934</td>\n",
       "      <td>-0.119192</td>\n",
       "      <td>0.446067</td>\n",
       "      <td>-0.463607</td>\n",
       "      <td>-0.528541</td>\n",
       "      <td>0.477042</td>\n",
       "      <td>-0.504202</td>\n",
       "      <td>-0.572090</td>\n",
       "    </tr>\n",
       "    <tr>\n",
       "      <th>ch4</th>\n",
       "      <td>-0.421805</td>\n",
       "      <td>1.000000</td>\n",
       "      <td>0.380805</td>\n",
       "      <td>0.700893</td>\n",
       "      <td>0.689663</td>\n",
       "      <td>-0.624211</td>\n",
       "      <td>0.560603</td>\n",
       "      <td>0.932743</td>\n",
       "      <td>-0.727128</td>\n",
       "      <td>0.900150</td>\n",
       "      <td>0.889358</td>\n",
       "    </tr>\n",
       "    <tr>\n",
       "      <th>co2</th>\n",
       "      <td>0.103099</td>\n",
       "      <td>0.380805</td>\n",
       "      <td>1.000000</td>\n",
       "      <td>0.920609</td>\n",
       "      <td>0.929735</td>\n",
       "      <td>-0.467428</td>\n",
       "      <td>-0.258875</td>\n",
       "      <td>0.373388</td>\n",
       "      <td>-0.028819</td>\n",
       "      <td>0.312048</td>\n",
       "      <td>0.227495</td>\n",
       "    </tr>\n",
       "    <tr>\n",
       "      <th>ghgs1</th>\n",
       "      <td>-0.116934</td>\n",
       "      <td>0.700893</td>\n",
       "      <td>0.920609</td>\n",
       "      <td>1.000000</td>\n",
       "      <td>0.997683</td>\n",
       "      <td>-0.572886</td>\n",
       "      <td>0.046412</td>\n",
       "      <td>0.670960</td>\n",
       "      <td>-0.315104</td>\n",
       "      <td>0.600796</td>\n",
       "      <td>0.527089</td>\n",
       "    </tr>\n",
       "    <tr>\n",
       "      <th>ghgs2</th>\n",
       "      <td>-0.119192</td>\n",
       "      <td>0.689663</td>\n",
       "      <td>0.929735</td>\n",
       "      <td>0.997683</td>\n",
       "      <td>1.000000</td>\n",
       "      <td>-0.612546</td>\n",
       "      <td>0.047228</td>\n",
       "      <td>0.673586</td>\n",
       "      <td>-0.321786</td>\n",
       "      <td>0.609919</td>\n",
       "      <td>0.537629</td>\n",
       "    </tr>\n",
       "    <tr>\n",
       "      <th>hfcs</th>\n",
       "      <td>0.446067</td>\n",
       "      <td>-0.624211</td>\n",
       "      <td>-0.467428</td>\n",
       "      <td>-0.572886</td>\n",
       "      <td>-0.612546</td>\n",
       "      <td>1.000000</td>\n",
       "      <td>-0.429178</td>\n",
       "      <td>-0.780703</td>\n",
       "      <td>0.706967</td>\n",
       "      <td>-0.828618</td>\n",
       "      <td>-0.819577</td>\n",
       "    </tr>\n",
       "    <tr>\n",
       "      <th>hfcs+pfcs</th>\n",
       "      <td>-0.463607</td>\n",
       "      <td>0.560603</td>\n",
       "      <td>-0.258875</td>\n",
       "      <td>0.046412</td>\n",
       "      <td>0.047228</td>\n",
       "      <td>-0.429178</td>\n",
       "      <td>1.000000</td>\n",
       "      <td>0.690188</td>\n",
       "      <td>-0.718358</td>\n",
       "      <td>0.719065</td>\n",
       "      <td>0.739614</td>\n",
       "    </tr>\n",
       "    <tr>\n",
       "      <th>n2o</th>\n",
       "      <td>-0.528541</td>\n",
       "      <td>0.932743</td>\n",
       "      <td>0.373388</td>\n",
       "      <td>0.670960</td>\n",
       "      <td>0.673586</td>\n",
       "      <td>-0.780703</td>\n",
       "      <td>0.690188</td>\n",
       "      <td>1.000000</td>\n",
       "      <td>-0.836666</td>\n",
       "      <td>0.980806</td>\n",
       "      <td>0.967379</td>\n",
       "    </tr>\n",
       "    <tr>\n",
       "      <th>nf3</th>\n",
       "      <td>0.477042</td>\n",
       "      <td>-0.727128</td>\n",
       "      <td>-0.028819</td>\n",
       "      <td>-0.315104</td>\n",
       "      <td>-0.321786</td>\n",
       "      <td>0.706967</td>\n",
       "      <td>-0.718358</td>\n",
       "      <td>-0.836666</td>\n",
       "      <td>1.000000</td>\n",
       "      <td>-0.877938</td>\n",
       "      <td>-0.867154</td>\n",
       "    </tr>\n",
       "    <tr>\n",
       "      <th>pfcs</th>\n",
       "      <td>-0.504202</td>\n",
       "      <td>0.900150</td>\n",
       "      <td>0.312048</td>\n",
       "      <td>0.600796</td>\n",
       "      <td>0.609919</td>\n",
       "      <td>-0.828618</td>\n",
       "      <td>0.719065</td>\n",
       "      <td>0.980806</td>\n",
       "      <td>-0.877938</td>\n",
       "      <td>1.000000</td>\n",
       "      <td>0.984444</td>\n",
       "    </tr>\n",
       "    <tr>\n",
       "      <th>sf6</th>\n",
       "      <td>-0.572090</td>\n",
       "      <td>0.889358</td>\n",
       "      <td>0.227495</td>\n",
       "      <td>0.527089</td>\n",
       "      <td>0.537629</td>\n",
       "      <td>-0.819577</td>\n",
       "      <td>0.739614</td>\n",
       "      <td>0.967379</td>\n",
       "      <td>-0.867154</td>\n",
       "      <td>0.984444</td>\n",
       "      <td>1.000000</td>\n",
       "    </tr>\n",
       "  </tbody>\n",
       "</table>\n",
       "</div>"
      ],
      "text/plain": [
       "             Temperature       ch4       co2     ghgs1     ghgs2      hfcs  \\\n",
       "Temperature     1.000000 -0.421805  0.103099 -0.116934 -0.119192  0.446067   \n",
       "ch4            -0.421805  1.000000  0.380805  0.700893  0.689663 -0.624211   \n",
       "co2             0.103099  0.380805  1.000000  0.920609  0.929735 -0.467428   \n",
       "ghgs1          -0.116934  0.700893  0.920609  1.000000  0.997683 -0.572886   \n",
       "ghgs2          -0.119192  0.689663  0.929735  0.997683  1.000000 -0.612546   \n",
       "hfcs            0.446067 -0.624211 -0.467428 -0.572886 -0.612546  1.000000   \n",
       "hfcs+pfcs      -0.463607  0.560603 -0.258875  0.046412  0.047228 -0.429178   \n",
       "n2o            -0.528541  0.932743  0.373388  0.670960  0.673586 -0.780703   \n",
       "nf3             0.477042 -0.727128 -0.028819 -0.315104 -0.321786  0.706967   \n",
       "pfcs           -0.504202  0.900150  0.312048  0.600796  0.609919 -0.828618   \n",
       "sf6            -0.572090  0.889358  0.227495  0.527089  0.537629 -0.819577   \n",
       "\n",
       "             hfcs+pfcs       n2o       nf3      pfcs       sf6  \n",
       "Temperature  -0.463607 -0.528541  0.477042 -0.504202 -0.572090  \n",
       "ch4           0.560603  0.932743 -0.727128  0.900150  0.889358  \n",
       "co2          -0.258875  0.373388 -0.028819  0.312048  0.227495  \n",
       "ghgs1         0.046412  0.670960 -0.315104  0.600796  0.527089  \n",
       "ghgs2         0.047228  0.673586 -0.321786  0.609919  0.537629  \n",
       "hfcs         -0.429178 -0.780703  0.706967 -0.828618 -0.819577  \n",
       "hfcs+pfcs     1.000000  0.690188 -0.718358  0.719065  0.739614  \n",
       "n2o           0.690188  1.000000 -0.836666  0.980806  0.967379  \n",
       "nf3          -0.718358 -0.836666  1.000000 -0.877938 -0.867154  \n",
       "pfcs          0.719065  0.980806 -0.877938  1.000000  0.984444  \n",
       "sf6           0.739614  0.967379 -0.867154  0.984444  1.000000  "
      ]
     },
     "execution_count": 39,
     "metadata": {},
     "output_type": "execute_result"
    }
   ],
   "source": [
    "annual_mean_temperature.corr()"
   ]
  },
  {
   "cell_type": "code",
   "execution_count": 40,
   "metadata": {},
   "outputs": [],
   "source": [
    "#by_country.groupby(df['date'].dt.year)['a'].agg(['sum', 'mean', 'max'])"
   ]
  }
 ],
 "metadata": {
  "kernelspec": {
   "display_name": "Python 3",
   "language": "python",
   "name": "python3"
  },
  "language_info": {
   "codemirror_mode": {
    "name": "ipython",
    "version": 3
   },
   "file_extension": ".py",
   "mimetype": "text/x-python",
   "name": "python",
   "nbconvert_exporter": "python",
   "pygments_lexer": "ipython3",
   "version": "3.7.3"
  }
 },
 "nbformat": 4,
 "nbformat_minor": 2
}

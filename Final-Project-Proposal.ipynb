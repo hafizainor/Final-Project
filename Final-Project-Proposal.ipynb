{
 "cells": [
  {
   "cell_type": "markdown",
   "metadata": {},
   "source": [
    "# Background\n",
    "\n",
    "Climate change has been a stuff of debate for many years. As a Clean Energy graduate from Temasek Poly, I always wonder why am I being taught alternative ways to generate energy, yet, most countries are still generating energy the \"destructive\" ways - which some assume to be the cause of climate change as current energy generation emits greenhouse gases.\n",
    "\n",
    "I always thought to myself,\n",
    "\n",
    "* *is climate change not true?*\n",
    "\n",
    "* *is climate change just a sign of the earth aging and has nothing to do with greenhouse gases?*\n",
    "\n",
    "I would like to take this opportunity to see how Data Science can be used to answer the above question.\n",
    "\n",
    "## Proposal\n",
    "\n",
    "For this project proposal, I will be doing a project regarding Climate change.\n",
    "\n",
    "My current Null hypothesis : **\"Greenhouse gases has nothing to do with climate change\"**\n",
    "\n",
    "The datasets I obtained are from this link:\n",
    "\n",
    "Temperature data:\n",
    "\n",
    "https://www.kaggle.com/berkeleyearth/climate-change-earth-surface-temperature-data/kernels\n",
    "\n",
    "International greenhouse emission data:\n",
    "\n",
    "https://www.kaggle.com/unitednations/international-greenhouse-gas-emissions\n",
    "\n",
    "## Risk / Limitation\n",
    "\n",
    "* The countries listed in each datasets varies. As such, some contries will be missing.\n",
    "* Can't find the dictionary for each dataset. The greenhouse emission data has long column name which is hard to understand.\n"
   ]
  },
  {
   "cell_type": "code",
   "execution_count": null,
   "metadata": {},
   "outputs": [],
   "source": []
  }
 ],
 "metadata": {
  "kernelspec": {
   "display_name": "Python 3",
   "language": "python",
   "name": "python3"
  },
  "language_info": {
   "codemirror_mode": {
    "name": "ipython",
    "version": 3
   },
   "file_extension": ".py",
   "mimetype": "text/x-python",
   "name": "python",
   "nbconvert_exporter": "python",
   "pygments_lexer": "ipython3",
   "version": "3.7.3"
  }
 },
 "nbformat": 4,
 "nbformat_minor": 2
}
